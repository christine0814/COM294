{
 "cells": [
  {
   "cell_type": "markdown",
   "metadata": {},
   "source": [
    "# Seattle Salary Breakdown"
   ]
  },
  {
   "cell_type": "code",
   "execution_count": 1,
   "metadata": {
    "collapsed": true
   },
   "outputs": [],
   "source": [
    "# Data sourced from -- https://data.seattle.gov/\n",
    "# URL - https://data.seattle.gov/City-Business/City-of-Seattle-Wage-Data/2khk-5ukd"
   ]
  },
  {
   "cell_type": "markdown",
   "metadata": {},
   "source": [
    "## Imports"
   ]
  },
  {
   "cell_type": "markdown",
   "metadata": {},
   "source": [
    "##### Import dependencies (Python Libraries)"
   ]
  },
  {
   "cell_type": "code",
   "execution_count": 31,
   "metadata": {
    "collapsed": true
   },
   "outputs": [],
   "source": [
    "import pandas as pd\n",
    "import matplotlib.pyplot as plt"
   ]
  },
  {
   "cell_type": "markdown",
   "metadata": {},
   "source": [
    "##### Read in the dataset"
   ]
  },
  {
   "cell_type": "code",
   "execution_count": 2,
   "metadata": {
    "collapsed": true
   },
   "outputs": [],
   "source": [
    "wages = pd.read_csv('Seattle_Wages_Data.csv')"
   ]
  },
  {
   "cell_type": "markdown",
   "metadata": {},
   "source": [
    "## Descriptive Stats"
   ]
  },
  {
   "cell_type": "markdown",
   "metadata": {},
   "source": [
    "##### Run basics descriptive statistics -- use the following methods:\n",
    "##### 1. shape, 2. describe, 3. info, 4. columns"
   ]
  },
  {
   "cell_type": "code",
   "execution_count": 3,
   "metadata": {},
   "outputs": [
    {
     "data": {
      "text/plain": [
       "(12346, 5)"
      ]
     },
     "execution_count": 3,
     "metadata": {},
     "output_type": "execute_result"
    }
   ],
   "source": [
    "wages.shape"
   ]
  },
  {
   "cell_type": "code",
   "execution_count": 4,
   "metadata": {},
   "outputs": [
    {
     "data": {
      "text/html": [
       "<div>\n",
       "<style scoped>\n",
       "    .dataframe tbody tr th:only-of-type {\n",
       "        vertical-align: middle;\n",
       "    }\n",
       "\n",
       "    .dataframe tbody tr th {\n",
       "        vertical-align: top;\n",
       "    }\n",
       "\n",
       "    .dataframe thead th {\n",
       "        text-align: right;\n",
       "    }\n",
       "</style>\n",
       "<table border=\"1\" class=\"dataframe\">\n",
       "  <thead>\n",
       "    <tr style=\"text-align: right;\">\n",
       "      <th></th>\n",
       "      <th>Hourly Rate</th>\n",
       "    </tr>\n",
       "  </thead>\n",
       "  <tbody>\n",
       "    <tr>\n",
       "      <th>count</th>\n",
       "      <td>12346.000000</td>\n",
       "    </tr>\n",
       "    <tr>\n",
       "      <th>mean</th>\n",
       "      <td>38.974306</td>\n",
       "    </tr>\n",
       "    <tr>\n",
       "      <th>std</th>\n",
       "      <td>13.724498</td>\n",
       "    </tr>\n",
       "    <tr>\n",
       "      <th>min</th>\n",
       "      <td>5.110000</td>\n",
       "    </tr>\n",
       "    <tr>\n",
       "      <th>25%</th>\n",
       "      <td>28.830000</td>\n",
       "    </tr>\n",
       "    <tr>\n",
       "      <th>50%</th>\n",
       "      <td>38.850000</td>\n",
       "    </tr>\n",
       "    <tr>\n",
       "      <th>75%</th>\n",
       "      <td>48.430000</td>\n",
       "    </tr>\n",
       "    <tr>\n",
       "      <th>max</th>\n",
       "      <td>166.910000</td>\n",
       "    </tr>\n",
       "  </tbody>\n",
       "</table>\n",
       "</div>"
      ],
      "text/plain": [
       "       Hourly Rate \n",
       "count  12346.000000\n",
       "mean      38.974306\n",
       "std       13.724498\n",
       "min        5.110000\n",
       "25%       28.830000\n",
       "50%       38.850000\n",
       "75%       48.430000\n",
       "max      166.910000"
      ]
     },
     "execution_count": 4,
     "metadata": {},
     "output_type": "execute_result"
    }
   ],
   "source": [
    "wages.describe()"
   ]
  },
  {
   "cell_type": "code",
   "execution_count": 5,
   "metadata": {},
   "outputs": [
    {
     "name": "stdout",
     "output_type": "stream",
     "text": [
      "<class 'pandas.core.frame.DataFrame'>\n",
      "RangeIndex: 12346 entries, 0 to 12345\n",
      "Data columns (total 5 columns):\n",
      "Department      12346 non-null object\n",
      "Last Name       12346 non-null object\n",
      "First Name      12346 non-null object\n",
      "Job Title       12346 non-null object\n",
      "Hourly Rate     12346 non-null float64\n",
      "dtypes: float64(1), object(4)\n",
      "memory usage: 482.3+ KB\n"
     ]
    }
   ],
   "source": [
    "wages.info()"
   ]
  },
  {
   "cell_type": "code",
   "execution_count": 6,
   "metadata": {},
   "outputs": [
    {
     "data": {
      "text/plain": [
       "Index(['Department', 'Last Name', 'First Name', 'Job Title', 'Hourly Rate '], dtype='object')"
      ]
     },
     "execution_count": 6,
     "metadata": {},
     "output_type": "execute_result"
    }
   ],
   "source": [
    "wages.columns"
   ]
  },
  {
   "cell_type": "markdown",
   "metadata": {},
   "source": [
    "##### Let's visualize our dataset -- use the following methods:\n",
    "##### 1. head, 2. tail"
   ]
  },
  {
   "cell_type": "code",
   "execution_count": 7,
   "metadata": {},
   "outputs": [
    {
     "data": {
      "text/html": [
       "<div>\n",
       "<style scoped>\n",
       "    .dataframe tbody tr th:only-of-type {\n",
       "        vertical-align: middle;\n",
       "    }\n",
       "\n",
       "    .dataframe tbody tr th {\n",
       "        vertical-align: top;\n",
       "    }\n",
       "\n",
       "    .dataframe thead th {\n",
       "        text-align: right;\n",
       "    }\n",
       "</style>\n",
       "<table border=\"1\" class=\"dataframe\">\n",
       "  <thead>\n",
       "    <tr style=\"text-align: right;\">\n",
       "      <th></th>\n",
       "      <th>Department</th>\n",
       "      <th>Last Name</th>\n",
       "      <th>First Name</th>\n",
       "      <th>Job Title</th>\n",
       "      <th>Hourly Rate</th>\n",
       "    </tr>\n",
       "  </thead>\n",
       "  <tbody>\n",
       "    <tr>\n",
       "      <th>0</th>\n",
       "      <td>Arts and Culture</td>\n",
       "      <td>Boas-Du Pree</td>\n",
       "      <td>Sandra</td>\n",
       "      <td>Admin Staff Asst</td>\n",
       "      <td>34.48</td>\n",
       "    </tr>\n",
       "    <tr>\n",
       "      <th>1</th>\n",
       "      <td>Arts and Culture</td>\n",
       "      <td>Bolisay</td>\n",
       "      <td>Ronald</td>\n",
       "      <td>Publc Relations Spec</td>\n",
       "      <td>29.09</td>\n",
       "    </tr>\n",
       "    <tr>\n",
       "      <th>2</th>\n",
       "      <td>Arts and Culture</td>\n",
       "      <td>Chai</td>\n",
       "      <td>Grace</td>\n",
       "      <td>Cooperative Intern *</td>\n",
       "      <td>16.12</td>\n",
       "    </tr>\n",
       "    <tr>\n",
       "      <th>3</th>\n",
       "      <td>Arts and Culture</td>\n",
       "      <td>Childers</td>\n",
       "      <td>Calandra</td>\n",
       "      <td>StratAdvsr3,Exempt</td>\n",
       "      <td>48.71</td>\n",
       "    </tr>\n",
       "    <tr>\n",
       "      <th>4</th>\n",
       "      <td>Arts and Culture</td>\n",
       "      <td>Crooks</td>\n",
       "      <td>Jennifer</td>\n",
       "      <td>Arts Prgm Spec</td>\n",
       "      <td>35.93</td>\n",
       "    </tr>\n",
       "  </tbody>\n",
       "</table>\n",
       "</div>"
      ],
      "text/plain": [
       "         Department     Last Name First Name             Job Title  \\\n",
       "0  Arts and Culture  Boas-Du Pree     Sandra      Admin Staff Asst   \n",
       "1  Arts and Culture       Bolisay     Ronald  Publc Relations Spec   \n",
       "2  Arts and Culture          Chai      Grace  Cooperative Intern *   \n",
       "3  Arts and Culture      Childers   Calandra    StratAdvsr3,Exempt   \n",
       "4  Arts and Culture        Crooks   Jennifer        Arts Prgm Spec   \n",
       "\n",
       "   Hourly Rate   \n",
       "0         34.48  \n",
       "1         29.09  \n",
       "2         16.12  \n",
       "3         48.71  \n",
       "4         35.93  "
      ]
     },
     "execution_count": 7,
     "metadata": {},
     "output_type": "execute_result"
    }
   ],
   "source": [
    "wages.head()"
   ]
  },
  {
   "cell_type": "code",
   "execution_count": 8,
   "metadata": {},
   "outputs": [
    {
     "data": {
      "text/html": [
       "<div>\n",
       "<style scoped>\n",
       "    .dataframe tbody tr th:only-of-type {\n",
       "        vertical-align: middle;\n",
       "    }\n",
       "\n",
       "    .dataframe tbody tr th {\n",
       "        vertical-align: top;\n",
       "    }\n",
       "\n",
       "    .dataframe thead th {\n",
       "        text-align: right;\n",
       "    }\n",
       "</style>\n",
       "<table border=\"1\" class=\"dataframe\">\n",
       "  <thead>\n",
       "    <tr style=\"text-align: right;\">\n",
       "      <th></th>\n",
       "      <th>Department</th>\n",
       "      <th>Last Name</th>\n",
       "      <th>First Name</th>\n",
       "      <th>Job Title</th>\n",
       "      <th>Hourly Rate</th>\n",
       "    </tr>\n",
       "  </thead>\n",
       "  <tbody>\n",
       "    <tr>\n",
       "      <th>12341</th>\n",
       "      <td>Seattle Public Utilities</td>\n",
       "      <td>Zemmerman</td>\n",
       "      <td>Ahanu</td>\n",
       "      <td>Maint Laborer</td>\n",
       "      <td>25.39</td>\n",
       "    </tr>\n",
       "    <tr>\n",
       "      <th>12342</th>\n",
       "      <td>Seattle Public Utilities</td>\n",
       "      <td>Zoellmer</td>\n",
       "      <td>Adam</td>\n",
       "      <td>Trng&amp;Ed Coord,Sr</td>\n",
       "      <td>37.94</td>\n",
       "    </tr>\n",
       "    <tr>\n",
       "      <th>12343</th>\n",
       "      <td>Seattle Public Utilities</td>\n",
       "      <td>Zollman</td>\n",
       "      <td>Karen</td>\n",
       "      <td>Civil Engrng Spec,Sr</td>\n",
       "      <td>48.84</td>\n",
       "    </tr>\n",
       "    <tr>\n",
       "      <th>12344</th>\n",
       "      <td>Seattle Public Utilities</td>\n",
       "      <td>Zurowski</td>\n",
       "      <td>Allan</td>\n",
       "      <td>Carpenter</td>\n",
       "      <td>32.88</td>\n",
       "    </tr>\n",
       "    <tr>\n",
       "      <th>12345</th>\n",
       "      <td>Seattle Public Utilities</td>\n",
       "      <td>Zuver</td>\n",
       "      <td>Glen</td>\n",
       "      <td>Constr&amp;Maint Equip Op,Sr</td>\n",
       "      <td>34.75</td>\n",
       "    </tr>\n",
       "  </tbody>\n",
       "</table>\n",
       "</div>"
      ],
      "text/plain": [
       "                     Department  Last Name First Name  \\\n",
       "12341  Seattle Public Utilities  Zemmerman      Ahanu   \n",
       "12342  Seattle Public Utilities   Zoellmer       Adam   \n",
       "12343  Seattle Public Utilities    Zollman      Karen   \n",
       "12344  Seattle Public Utilities   Zurowski      Allan   \n",
       "12345  Seattle Public Utilities      Zuver       Glen   \n",
       "\n",
       "                      Job Title  Hourly Rate   \n",
       "12341             Maint Laborer         25.39  \n",
       "12342          Trng&Ed Coord,Sr         37.94  \n",
       "12343      Civil Engrng Spec,Sr         48.84  \n",
       "12344                 Carpenter         32.88  \n",
       "12345  Constr&Maint Equip Op,Sr         34.75  "
      ]
     },
     "execution_count": 8,
     "metadata": {},
     "output_type": "execute_result"
    }
   ],
   "source": [
    "wages.tail()"
   ]
  },
  {
   "cell_type": "markdown",
   "metadata": {},
   "source": [
    "## Indexing"
   ]
  },
  {
   "cell_type": "markdown",
   "metadata": {},
   "source": [
    "### Question -- Who earns the most per hour?"
   ]
  },
  {
   "cell_type": "markdown",
   "metadata": {},
   "source": [
    "##### Index for the Hour Rate column and find the max. Save the output to a variable."
   ]
  },
  {
   "cell_type": "code",
   "execution_count": 10,
   "metadata": {},
   "outputs": [],
   "source": [
    "highest_wage = wages['Hourly Rate '].max()"
   ]
  },
  {
   "cell_type": "markdown",
   "metadata": {},
   "source": [
    "##### Let's try boolean indexing"
   ]
  },
  {
   "cell_type": "code",
   "execution_count": 11,
   "metadata": {},
   "outputs": [
    {
     "data": {
      "text/html": [
       "<div>\n",
       "<style scoped>\n",
       "    .dataframe tbody tr th:only-of-type {\n",
       "        vertical-align: middle;\n",
       "    }\n",
       "\n",
       "    .dataframe tbody tr th {\n",
       "        vertical-align: top;\n",
       "    }\n",
       "\n",
       "    .dataframe thead th {\n",
       "        text-align: right;\n",
       "    }\n",
       "</style>\n",
       "<table border=\"1\" class=\"dataframe\">\n",
       "  <thead>\n",
       "    <tr style=\"text-align: right;\">\n",
       "      <th></th>\n",
       "      <th>Department</th>\n",
       "      <th>Last Name</th>\n",
       "      <th>First Name</th>\n",
       "      <th>Job Title</th>\n",
       "      <th>Hourly Rate</th>\n",
       "    </tr>\n",
       "  </thead>\n",
       "  <tbody>\n",
       "    <tr>\n",
       "      <th>1879</th>\n",
       "      <td>City Light</td>\n",
       "      <td>Weis</td>\n",
       "      <td>Larry</td>\n",
       "      <td>City Light General Mgr&amp;CEO</td>\n",
       "      <td>166.91</td>\n",
       "    </tr>\n",
       "  </tbody>\n",
       "</table>\n",
       "</div>"
      ],
      "text/plain": [
       "      Department Last Name First Name                   Job Title  \\\n",
       "1879  City Light      Weis      Larry  City Light General Mgr&CEO   \n",
       "\n",
       "      Hourly Rate   \n",
       "1879        166.91  "
      ]
     },
     "execution_count": 11,
     "metadata": {},
     "output_type": "execute_result"
    }
   ],
   "source": [
    "wages[wages['Hourly Rate '] == highest_wage]"
   ]
  },
  {
   "cell_type": "markdown",
   "metadata": {},
   "source": [
    "### Question -- How many people work for City Light?"
   ]
  },
  {
   "cell_type": "markdown",
   "metadata": {},
   "source": [
    "##### Use boolean indexing to find all employees that work for City Light. Save that output (dataframe) to a variable called 'City_Light_employees'."
   ]
  },
  {
   "cell_type": "code",
   "execution_count": 12,
   "metadata": {
    "collapsed": true
   },
   "outputs": [],
   "source": [
    "City_Light_employees = wages[wages['Department'] == 'City Light']"
   ]
  },
  {
   "cell_type": "markdown",
   "metadata": {},
   "source": [
    "##### Apply the describe method to the DataFrame -- 'City_Lights_employees'. Index on 'Job Title'"
   ]
  },
  {
   "cell_type": "code",
   "execution_count": 13,
   "metadata": {},
   "outputs": [
    {
     "data": {
      "text/plain": [
       "count      1850\n",
       "unique      328\n",
       "top       Lnwkr\n",
       "freq        118\n",
       "Name: Job Title, dtype: object"
      ]
     },
     "execution_count": 13,
     "metadata": {},
     "output_type": "execute_result"
    }
   ],
   "source": [
    "City_Light_employees['Job Title'].describe()"
   ]
  },
  {
   "cell_type": "markdown",
   "metadata": {},
   "source": [
    "### Question -- What is the average hourly salary earned at City Light?"
   ]
  },
  {
   "cell_type": "markdown",
   "metadata": {},
   "source": [
    "##### From the 'City_Light_employees' DataFrame index on 'Hourly Rate '. Apply the method -- mean() to find the average salary. Save that output to a variable called -- 'avg_City_Light_rate'"
   ]
  },
  {
   "cell_type": "code",
   "execution_count": 14,
   "metadata": {
    "collapsed": true
   },
   "outputs": [],
   "source": [
    "avg_City_Light_rate = City_Light_employees['Hourly Rate '].mean()"
   ]
  },
  {
   "cell_type": "markdown",
   "metadata": {},
   "source": [
    "### Question -- How much more does the highest earning gov worker earn than the average City Light employee?"
   ]
  },
  {
   "cell_type": "code",
   "execution_count": 15,
   "metadata": {},
   "outputs": [
    {
     "data": {
      "text/plain": [
       "124.4593027027027"
      ]
     },
     "execution_count": 15,
     "metadata": {},
     "output_type": "execute_result"
    }
   ],
   "source": [
    "highest_wage - avg_City_Light_rate"
   ]
  },
  {
   "cell_type": "markdown",
   "metadata": {},
   "source": [
    "### Question -- How many other departments are there?"
   ]
  },
  {
   "cell_type": "markdown",
   "metadata": {},
   "source": [
    "##### From the wages DataFrame index on 'Departments'. Apply the method -- describe()."
   ]
  },
  {
   "cell_type": "code",
   "execution_count": 16,
   "metadata": {},
   "outputs": [
    {
     "data": {
      "text/plain": [
       "count                 12346\n",
       "unique                   36\n",
       "top       Police Department\n",
       "freq                   1966\n",
       "Name: Department, dtype: object"
      ]
     },
     "execution_count": 16,
     "metadata": {},
     "output_type": "execute_result"
    }
   ],
   "source": [
    "wages['Department'].describe()"
   ]
  },
  {
   "cell_type": "markdown",
   "metadata": {},
   "source": [
    "### Question -- How many positions are there in the Police Department? Which one earned the most and the least?"
   ]
  },
  {
   "cell_type": "markdown",
   "metadata": {},
   "source": [
    "##### From the wages DataFrame boolean index on 'Police Department'. Save the output to a variable called -- 'Police_Dept_employees'"
   ]
  },
  {
   "cell_type": "code",
   "execution_count": 17,
   "metadata": {
    "collapsed": true
   },
   "outputs": [],
   "source": [
    "Police_Dept_employees = wages[wages['Department'] == 'Police Department']"
   ]
  },
  {
   "cell_type": "markdown",
   "metadata": {},
   "source": [
    "#####  From the 'Police_Dept_employees' DataFrame, index on 'Job Title'. Use the describe method to get descriptive stats on the column, including how many unique values were there. "
   ]
  },
  {
   "cell_type": "code",
   "execution_count": 18,
   "metadata": {},
   "outputs": [
    {
     "data": {
      "text/plain": [
       "count               1966\n",
       "unique               127\n",
       "top       Pol Ofcr-Patrl\n",
       "freq                 498\n",
       "Name: Job Title, dtype: object"
      ]
     },
     "execution_count": 18,
     "metadata": {},
     "output_type": "execute_result"
    }
   ],
   "source": [
    "Police_Dept_employees['Job Title'].describe()"
   ]
  },
  {
   "cell_type": "markdown",
   "metadata": {},
   "source": [
    "##### From the 'Police_Dept_employees' DataFrame index on the 'Hourly Rate ' column and apply the describe method."
   ]
  },
  {
   "cell_type": "code",
   "execution_count": 19,
   "metadata": {},
   "outputs": [
    {
     "data": {
      "text/plain": [
       "count    1966.000000\n",
       "mean       43.954639\n",
       "std        11.697764\n",
       "min        16.120000\n",
       "25%        35.560000\n",
       "50%        44.950000\n",
       "75%        49.510000\n",
       "max       127.680000\n",
       "Name: Hourly Rate , dtype: float64"
      ]
     },
     "execution_count": 19,
     "metadata": {},
     "output_type": "execute_result"
    }
   ],
   "source": [
    "Police_Dept_employees['Hourly Rate '].describe()"
   ]
  },
  {
   "cell_type": "markdown",
   "metadata": {},
   "source": [
    "##### From the 'Police_Dept_employees' DataFrame, use boolean indexing to find who is earning the most money at the Police Department"
   ]
  },
  {
   "cell_type": "code",
   "execution_count": 20,
   "metadata": {},
   "outputs": [
    {
     "data": {
      "text/html": [
       "<div>\n",
       "<style scoped>\n",
       "    .dataframe tbody tr th:only-of-type {\n",
       "        vertical-align: middle;\n",
       "    }\n",
       "\n",
       "    .dataframe tbody tr th {\n",
       "        vertical-align: top;\n",
       "    }\n",
       "\n",
       "    .dataframe thead th {\n",
       "        text-align: right;\n",
       "    }\n",
       "</style>\n",
       "<table border=\"1\" class=\"dataframe\">\n",
       "  <thead>\n",
       "    <tr style=\"text-align: right;\">\n",
       "      <th></th>\n",
       "      <th>Department</th>\n",
       "      <th>Last Name</th>\n",
       "      <th>First Name</th>\n",
       "      <th>Job Title</th>\n",
       "      <th>Hourly Rate</th>\n",
       "    </tr>\n",
       "  </thead>\n",
       "  <tbody>\n",
       "    <tr>\n",
       "      <th>7486</th>\n",
       "      <td>Police Department</td>\n",
       "      <td>OToole</td>\n",
       "      <td>Kathleen</td>\n",
       "      <td>Seattle Police Chief</td>\n",
       "      <td>127.68</td>\n",
       "    </tr>\n",
       "  </tbody>\n",
       "</table>\n",
       "</div>"
      ],
      "text/plain": [
       "             Department Last Name First Name             Job Title  \\\n",
       "7486  Police Department    OToole   Kathleen  Seattle Police Chief   \n",
       "\n",
       "      Hourly Rate   \n",
       "7486        127.68  "
      ]
     },
     "execution_count": 20,
     "metadata": {},
     "output_type": "execute_result"
    }
   ],
   "source": [
    "Police_Dept_employees[Police_Dept_employees['Hourly Rate '] == 127.680000]"
   ]
  },
  {
   "cell_type": "markdown",
   "metadata": {},
   "source": [
    "##### From the 'Police_Dept_employees' DataFrame, use boolean indexing to find who is earning the least money at the Police Department"
   ]
  },
  {
   "cell_type": "code",
   "execution_count": 21,
   "metadata": {},
   "outputs": [
    {
     "data": {
      "text/html": [
       "<div>\n",
       "<style scoped>\n",
       "    .dataframe tbody tr th:only-of-type {\n",
       "        vertical-align: middle;\n",
       "    }\n",
       "\n",
       "    .dataframe tbody tr th {\n",
       "        vertical-align: top;\n",
       "    }\n",
       "\n",
       "    .dataframe thead th {\n",
       "        text-align: right;\n",
       "    }\n",
       "</style>\n",
       "<table border=\"1\" class=\"dataframe\">\n",
       "  <thead>\n",
       "    <tr style=\"text-align: right;\">\n",
       "      <th></th>\n",
       "      <th>Department</th>\n",
       "      <th>Last Name</th>\n",
       "      <th>First Name</th>\n",
       "      <th>Job Title</th>\n",
       "      <th>Hourly Rate</th>\n",
       "    </tr>\n",
       "  </thead>\n",
       "  <tbody>\n",
       "    <tr>\n",
       "      <th>6192</th>\n",
       "      <td>Police Department</td>\n",
       "      <td>Bani Yaseen</td>\n",
       "      <td>Aissar</td>\n",
       "      <td>Cooperative Intern *</td>\n",
       "      <td>16.12</td>\n",
       "    </tr>\n",
       "  </tbody>\n",
       "</table>\n",
       "</div>"
      ],
      "text/plain": [
       "             Department    Last Name First Name             Job Title  \\\n",
       "6192  Police Department  Bani Yaseen     Aissar  Cooperative Intern *   \n",
       "\n",
       "      Hourly Rate   \n",
       "6192         16.12  "
      ]
     },
     "execution_count": 21,
     "metadata": {},
     "output_type": "execute_result"
    }
   ],
   "source": [
    "Police_Dept_employees[Police_Dept_employees['Hourly Rate '] == 16.120000]"
   ]
  },
  {
   "cell_type": "markdown",
   "metadata": {},
   "source": [
    "## Pivot Tables"
   ]
  },
  {
   "cell_type": "markdown",
   "metadata": {},
   "source": [
    "##### Generate a pivot table -- index on Department and Job Title, use Hourly Rate for the value(s). Save pivot table to varaible called 'wages_pivot'"
   ]
  },
  {
   "cell_type": "code",
   "execution_count": 22,
   "metadata": {
    "collapsed": true
   },
   "outputs": [],
   "source": [
    "wages_pivot = pd.pivot_table(wages, index = ['Department', 'Job Title'], values = ['Hourly Rate '])"
   ]
  },
  {
   "cell_type": "markdown",
   "metadata": {},
   "source": [
    "##### Index the pivot table for jobs and the hourly rates in the Arts and Culture department. Save the output to a variable."
   ]
  },
  {
   "cell_type": "code",
   "execution_count": null,
   "metadata": {
    "collapsed": true
   },
   "outputs": [],
   "source": [
    "wages_pivot[wages_pivot.index.get_level_values('Department') == 'Arts and Culture']"
   ]
  },
  {
   "cell_type": "code",
   "execution_count": 23,
   "metadata": {
    "collapsed": true
   },
   "outputs": [],
   "source": [
    "ArtsAndCulture = wages_pivot[wages_pivot.index.get_level_values('Department') == 'Arts and Culture']"
   ]
  },
  {
   "cell_type": "code",
   "execution_count": 24,
   "metadata": {},
   "outputs": [
    {
     "data": {
      "text/html": [
       "<div>\n",
       "<style scoped>\n",
       "    .dataframe tbody tr th:only-of-type {\n",
       "        vertical-align: middle;\n",
       "    }\n",
       "\n",
       "    .dataframe tbody tr th {\n",
       "        vertical-align: top;\n",
       "    }\n",
       "\n",
       "    .dataframe thead th {\n",
       "        text-align: right;\n",
       "    }\n",
       "</style>\n",
       "<table border=\"1\" class=\"dataframe\">\n",
       "  <thead>\n",
       "    <tr style=\"text-align: right;\">\n",
       "      <th></th>\n",
       "      <th></th>\n",
       "      <th>Hourly Rate</th>\n",
       "    </tr>\n",
       "    <tr>\n",
       "      <th>Department</th>\n",
       "      <th>Job Title</th>\n",
       "      <th></th>\n",
       "    </tr>\n",
       "  </thead>\n",
       "  <tbody>\n",
       "    <tr>\n",
       "      <th rowspan=\"21\" valign=\"top\">Arts and Culture</th>\n",
       "      <th>Accountant,Sr</th>\n",
       "      <td>39.960000</td>\n",
       "    </tr>\n",
       "    <tr>\n",
       "      <th>Actg Tech III</th>\n",
       "      <td>29.090000</td>\n",
       "    </tr>\n",
       "    <tr>\n",
       "      <th>Admin Spec III</th>\n",
       "      <td>26.076667</td>\n",
       "    </tr>\n",
       "    <tr>\n",
       "      <th>Admin Staff Anlyst</th>\n",
       "      <td>35.160000</td>\n",
       "    </tr>\n",
       "    <tr>\n",
       "      <th>Admin Staff Asst</th>\n",
       "      <td>32.030000</td>\n",
       "    </tr>\n",
       "    <tr>\n",
       "      <th>Arts Conserv Tech</th>\n",
       "      <td>30.170000</td>\n",
       "    </tr>\n",
       "    <tr>\n",
       "      <th>Arts Prgm Spec</th>\n",
       "      <td>34.930000</td>\n",
       "    </tr>\n",
       "    <tr>\n",
       "      <th>Arts Prgm Spec,Sr</th>\n",
       "      <td>39.095000</td>\n",
       "    </tr>\n",
       "    <tr>\n",
       "      <th>Arts Prgm Supv</th>\n",
       "      <td>44.230000</td>\n",
       "    </tr>\n",
       "    <tr>\n",
       "      <th>Cooperative Intern *</th>\n",
       "      <td>16.120000</td>\n",
       "    </tr>\n",
       "    <tr>\n",
       "      <th>Events Booking Rep</th>\n",
       "      <td>31.310000</td>\n",
       "    </tr>\n",
       "    <tr>\n",
       "      <th>Executive2</th>\n",
       "      <td>62.590000</td>\n",
       "    </tr>\n",
       "    <tr>\n",
       "      <th>Maint Laborer</th>\n",
       "      <td>25.390000</td>\n",
       "    </tr>\n",
       "    <tr>\n",
       "      <th>Manager1,Exempt</th>\n",
       "      <td>55.570000</td>\n",
       "    </tr>\n",
       "    <tr>\n",
       "      <th>Publc Relations Spec</th>\n",
       "      <td>29.090000</td>\n",
       "    </tr>\n",
       "    <tr>\n",
       "      <th>Publc Relations Spec,Sr</th>\n",
       "      <td>35.160000</td>\n",
       "    </tr>\n",
       "    <tr>\n",
       "      <th>Stage Tech,Lead</th>\n",
       "      <td>32.810000</td>\n",
       "    </tr>\n",
       "    <tr>\n",
       "      <th>StratAdvsr1,Exempt</th>\n",
       "      <td>43.616667</td>\n",
       "    </tr>\n",
       "    <tr>\n",
       "      <th>StratAdvsr1,General Govt</th>\n",
       "      <td>39.290000</td>\n",
       "    </tr>\n",
       "    <tr>\n",
       "      <th>StratAdvsr2,Exempt</th>\n",
       "      <td>57.790000</td>\n",
       "    </tr>\n",
       "    <tr>\n",
       "      <th>StratAdvsr3,Exempt</th>\n",
       "      <td>48.710000</td>\n",
       "    </tr>\n",
       "  </tbody>\n",
       "</table>\n",
       "</div>"
      ],
      "text/plain": [
       "                                           Hourly Rate \n",
       "Department       Job Title                             \n",
       "Arts and Culture Accountant,Sr                39.960000\n",
       "                 Actg Tech III                29.090000\n",
       "                 Admin Spec III               26.076667\n",
       "                 Admin Staff Anlyst           35.160000\n",
       "                 Admin Staff Asst             32.030000\n",
       "                 Arts Conserv Tech            30.170000\n",
       "                 Arts Prgm Spec               34.930000\n",
       "                 Arts Prgm Spec,Sr            39.095000\n",
       "                 Arts Prgm Supv               44.230000\n",
       "                 Cooperative Intern *         16.120000\n",
       "                 Events Booking Rep           31.310000\n",
       "                 Executive2                   62.590000\n",
       "                 Maint Laborer                25.390000\n",
       "                 Manager1,Exempt              55.570000\n",
       "                 Publc Relations Spec         29.090000\n",
       "                 Publc Relations Spec,Sr      35.160000\n",
       "                 Stage Tech,Lead              32.810000\n",
       "                 StratAdvsr1,Exempt           43.616667\n",
       "                 StratAdvsr1,General Govt     39.290000\n",
       "                 StratAdvsr2,Exempt           57.790000\n",
       "                 StratAdvsr3,Exempt           48.710000"
      ]
     },
     "execution_count": 24,
     "metadata": {},
     "output_type": "execute_result"
    }
   ],
   "source": [
    "ArtsAndCulture"
   ]
  },
  {
   "cell_type": "markdown",
   "metadata": {},
   "source": [
    "##### Index the pivot table for jobs and the hourly rates in the City Light department. Save the output to a variable."
   ]
  },
  {
   "cell_type": "code",
   "execution_count": 25,
   "metadata": {
    "collapsed": true
   },
   "outputs": [],
   "source": [
    "CityLight = wages_pivot[wages_pivot.index.get_level_values('Department') == 'City Light']"
   ]
  },
  {
   "cell_type": "code",
   "execution_count": 26,
   "metadata": {},
   "outputs": [
    {
     "data": {
      "text/html": [
       "<div>\n",
       "<style scoped>\n",
       "    .dataframe tbody tr th:only-of-type {\n",
       "        vertical-align: middle;\n",
       "    }\n",
       "\n",
       "    .dataframe tbody tr th {\n",
       "        vertical-align: top;\n",
       "    }\n",
       "\n",
       "    .dataframe thead th {\n",
       "        text-align: right;\n",
       "    }\n",
       "</style>\n",
       "<table border=\"1\" class=\"dataframe\">\n",
       "  <thead>\n",
       "    <tr style=\"text-align: right;\">\n",
       "      <th></th>\n",
       "      <th></th>\n",
       "      <th>Hourly Rate</th>\n",
       "    </tr>\n",
       "    <tr>\n",
       "      <th>Department</th>\n",
       "      <th>Job Title</th>\n",
       "      <th></th>\n",
       "    </tr>\n",
       "  </thead>\n",
       "  <tbody>\n",
       "    <tr>\n",
       "      <th rowspan=\"61\" valign=\"top\">City Light</th>\n",
       "      <th>Accountant</th>\n",
       "      <td>33.118571</td>\n",
       "    </tr>\n",
       "    <tr>\n",
       "      <th>Accountant,Prin</th>\n",
       "      <td>44.343333</td>\n",
       "    </tr>\n",
       "    <tr>\n",
       "      <th>Accountant,Prin *</th>\n",
       "      <td>39.960000</td>\n",
       "    </tr>\n",
       "    <tr>\n",
       "      <th>Accountant,Sr</th>\n",
       "      <td>38.921250</td>\n",
       "    </tr>\n",
       "    <tr>\n",
       "      <th>Actg Tech I-BU</th>\n",
       "      <td>24.500000</td>\n",
       "    </tr>\n",
       "    <tr>\n",
       "      <th>Actg Tech II-BU</th>\n",
       "      <td>26.318710</td>\n",
       "    </tr>\n",
       "    <tr>\n",
       "      <th>Actg Tech II-BU *</th>\n",
       "      <td>24.127143</td>\n",
       "    </tr>\n",
       "    <tr>\n",
       "      <th>Actg Tech III-BU</th>\n",
       "      <td>28.905556</td>\n",
       "    </tr>\n",
       "    <tr>\n",
       "      <th>Actg Tech III-BU *</th>\n",
       "      <td>26.890000</td>\n",
       "    </tr>\n",
       "    <tr>\n",
       "      <th>Actg Tech Supv-BU</th>\n",
       "      <td>30.930000</td>\n",
       "    </tr>\n",
       "    <tr>\n",
       "      <th>Admin Spec I</th>\n",
       "      <td>24.500000</td>\n",
       "    </tr>\n",
       "    <tr>\n",
       "      <th>Admin Spec I *</th>\n",
       "      <td>21.990000</td>\n",
       "    </tr>\n",
       "    <tr>\n",
       "      <th>Admin Spec I-BU</th>\n",
       "      <td>24.500000</td>\n",
       "    </tr>\n",
       "    <tr>\n",
       "      <th>Admin Spec I-BU *</th>\n",
       "      <td>22.770000</td>\n",
       "    </tr>\n",
       "    <tr>\n",
       "      <th>Admin Spec II</th>\n",
       "      <td>24.500000</td>\n",
       "    </tr>\n",
       "    <tr>\n",
       "      <th>Admin Spec II *</th>\n",
       "      <td>23.630000</td>\n",
       "    </tr>\n",
       "    <tr>\n",
       "      <th>Admin Spec II-BU</th>\n",
       "      <td>26.176364</td>\n",
       "    </tr>\n",
       "    <tr>\n",
       "      <th>Admin Spec II-BU *</th>\n",
       "      <td>23.978000</td>\n",
       "    </tr>\n",
       "    <tr>\n",
       "      <th>Admin Spec III</th>\n",
       "      <td>27.980000</td>\n",
       "    </tr>\n",
       "    <tr>\n",
       "      <th>Admin Spec III-BU</th>\n",
       "      <td>28.156667</td>\n",
       "    </tr>\n",
       "    <tr>\n",
       "      <th>Admin Staff Anlyst</th>\n",
       "      <td>39.400000</td>\n",
       "    </tr>\n",
       "    <tr>\n",
       "      <th>Admin Staff Asst</th>\n",
       "      <td>33.215000</td>\n",
       "    </tr>\n",
       "    <tr>\n",
       "      <th>Admin Staff Asst *</th>\n",
       "      <td>31.930000</td>\n",
       "    </tr>\n",
       "    <tr>\n",
       "      <th>Admin Support Supv-BU</th>\n",
       "      <td>30.170000</td>\n",
       "    </tr>\n",
       "    <tr>\n",
       "      <th>Apprenticeship Coord</th>\n",
       "      <td>36.580000</td>\n",
       "    </tr>\n",
       "    <tr>\n",
       "      <th>Arboriculturist</th>\n",
       "      <td>33.820000</td>\n",
       "    </tr>\n",
       "    <tr>\n",
       "      <th>Asst To The General Mgr&amp;CEO</th>\n",
       "      <td>40.160000</td>\n",
       "    </tr>\n",
       "    <tr>\n",
       "      <th>Auto Engr,Sr</th>\n",
       "      <td>42.560000</td>\n",
       "    </tr>\n",
       "    <tr>\n",
       "      <th>Auto Maint CC</th>\n",
       "      <td>40.860000</td>\n",
       "    </tr>\n",
       "    <tr>\n",
       "      <th>Auto Mechanic</th>\n",
       "      <td>34.930000</td>\n",
       "    </tr>\n",
       "    <tr>\n",
       "      <th>...</th>\n",
       "      <td>...</td>\n",
       "    </tr>\n",
       "    <tr>\n",
       "      <th>StratAdvsr3,Info Technol-BU</th>\n",
       "      <td>58.320000</td>\n",
       "    </tr>\n",
       "    <tr>\n",
       "      <th>StratAdvsr3,PC&amp;RM-BU</th>\n",
       "      <td>63.780000</td>\n",
       "    </tr>\n",
       "    <tr>\n",
       "      <th>StratAdvsr3,Utils</th>\n",
       "      <td>59.480000</td>\n",
       "    </tr>\n",
       "    <tr>\n",
       "      <th>StratAdvsr3,Utils-BU</th>\n",
       "      <td>61.095000</td>\n",
       "    </tr>\n",
       "    <tr>\n",
       "      <th>Strucl Iron Wkr</th>\n",
       "      <td>44.920000</td>\n",
       "    </tr>\n",
       "    <tr>\n",
       "      <th>Strucl Iron Wkr *</th>\n",
       "      <td>44.920000</td>\n",
       "    </tr>\n",
       "    <tr>\n",
       "      <th>Strucl Iron Wkr CC</th>\n",
       "      <td>50.540000</td>\n",
       "    </tr>\n",
       "    <tr>\n",
       "      <th>Strucl Pntr</th>\n",
       "      <td>34.020000</td>\n",
       "    </tr>\n",
       "    <tr>\n",
       "      <th>Strucl Pntr CC</th>\n",
       "      <td>38.300000</td>\n",
       "    </tr>\n",
       "    <tr>\n",
       "      <th>Student Accountant *</th>\n",
       "      <td>20.920000</td>\n",
       "    </tr>\n",
       "    <tr>\n",
       "      <th>Student Accountant Intern *</th>\n",
       "      <td>20.920000</td>\n",
       "    </tr>\n",
       "    <tr>\n",
       "      <th>Student Engr *</th>\n",
       "      <td>20.690000</td>\n",
       "    </tr>\n",
       "    <tr>\n",
       "      <th>Student Engr Intern *</th>\n",
       "      <td>20.770000</td>\n",
       "    </tr>\n",
       "    <tr>\n",
       "      <th>Technicial Writer</th>\n",
       "      <td>31.250000</td>\n",
       "    </tr>\n",
       "    <tr>\n",
       "      <th>Trans Line CC</th>\n",
       "      <td>52.060000</td>\n",
       "    </tr>\n",
       "    <tr>\n",
       "      <th>Trng&amp;Ed Coord</th>\n",
       "      <td>36.580000</td>\n",
       "    </tr>\n",
       "    <tr>\n",
       "      <th>Trng&amp;Ed Coord,Sr</th>\n",
       "      <td>38.426667</td>\n",
       "    </tr>\n",
       "    <tr>\n",
       "      <th>Truck Drvr</th>\n",
       "      <td>29.940000</td>\n",
       "    </tr>\n",
       "    <tr>\n",
       "      <th>Truck Drvr,Heavy</th>\n",
       "      <td>31.480000</td>\n",
       "    </tr>\n",
       "    <tr>\n",
       "      <th>Util Acts Supv</th>\n",
       "      <td>35.160000</td>\n",
       "    </tr>\n",
       "    <tr>\n",
       "      <th>Util Constr Lead Wkr</th>\n",
       "      <td>31.200000</td>\n",
       "    </tr>\n",
       "    <tr>\n",
       "      <th>Util Constr Wkr</th>\n",
       "      <td>28.711600</td>\n",
       "    </tr>\n",
       "    <tr>\n",
       "      <th>Util Hearing Ofcr *</th>\n",
       "      <td>39.400000</td>\n",
       "    </tr>\n",
       "    <tr>\n",
       "      <th>Util Laborer</th>\n",
       "      <td>24.500000</td>\n",
       "    </tr>\n",
       "    <tr>\n",
       "      <th>Video Spec II *</th>\n",
       "      <td>33.830000</td>\n",
       "    </tr>\n",
       "    <tr>\n",
       "      <th>Warehouser,Chief</th>\n",
       "      <td>33.530000</td>\n",
       "    </tr>\n",
       "    <tr>\n",
       "      <th>Warehouser,Sr-BU</th>\n",
       "      <td>28.683333</td>\n",
       "    </tr>\n",
       "    <tr>\n",
       "      <th>Warehouser,Sr-BU *</th>\n",
       "      <td>28.770000</td>\n",
       "    </tr>\n",
       "    <tr>\n",
       "      <th>Warehouser-BU</th>\n",
       "      <td>26.069286</td>\n",
       "    </tr>\n",
       "    <tr>\n",
       "      <th>Warehouser-BU *</th>\n",
       "      <td>24.190000</td>\n",
       "    </tr>\n",
       "  </tbody>\n",
       "</table>\n",
       "<p>328 rows × 1 columns</p>\n",
       "</div>"
      ],
      "text/plain": [
       "                                        Hourly Rate \n",
       "Department Job Title                                \n",
       "City Light Accountant                      33.118571\n",
       "           Accountant,Prin                 44.343333\n",
       "           Accountant,Prin *               39.960000\n",
       "           Accountant,Sr                   38.921250\n",
       "           Actg Tech I-BU                  24.500000\n",
       "           Actg Tech II-BU                 26.318710\n",
       "           Actg Tech II-BU *               24.127143\n",
       "           Actg Tech III-BU                28.905556\n",
       "           Actg Tech III-BU *              26.890000\n",
       "           Actg Tech Supv-BU               30.930000\n",
       "           Admin Spec I                    24.500000\n",
       "           Admin Spec I *                  21.990000\n",
       "           Admin Spec I-BU                 24.500000\n",
       "           Admin Spec I-BU *               22.770000\n",
       "           Admin Spec II                   24.500000\n",
       "           Admin Spec II *                 23.630000\n",
       "           Admin Spec II-BU                26.176364\n",
       "           Admin Spec II-BU *              23.978000\n",
       "           Admin Spec III                  27.980000\n",
       "           Admin Spec III-BU               28.156667\n",
       "           Admin Staff Anlyst              39.400000\n",
       "           Admin Staff Asst                33.215000\n",
       "           Admin Staff Asst *              31.930000\n",
       "           Admin Support Supv-BU           30.170000\n",
       "           Apprenticeship Coord            36.580000\n",
       "           Arboriculturist                 33.820000\n",
       "           Asst To The General Mgr&CEO     40.160000\n",
       "           Auto Engr,Sr                    42.560000\n",
       "           Auto Maint CC                   40.860000\n",
       "           Auto Mechanic                   34.930000\n",
       "...                                              ...\n",
       "           StratAdvsr3,Info Technol-BU     58.320000\n",
       "           StratAdvsr3,PC&RM-BU            63.780000\n",
       "           StratAdvsr3,Utils               59.480000\n",
       "           StratAdvsr3,Utils-BU            61.095000\n",
       "           Strucl Iron Wkr                 44.920000\n",
       "           Strucl Iron Wkr *               44.920000\n",
       "           Strucl Iron Wkr CC              50.540000\n",
       "           Strucl Pntr                     34.020000\n",
       "           Strucl Pntr CC                  38.300000\n",
       "           Student Accountant *            20.920000\n",
       "           Student Accountant Intern *     20.920000\n",
       "           Student Engr *                  20.690000\n",
       "           Student Engr Intern *           20.770000\n",
       "           Technicial Writer               31.250000\n",
       "           Trans Line CC                   52.060000\n",
       "           Trng&Ed Coord                   36.580000\n",
       "           Trng&Ed Coord,Sr                38.426667\n",
       "           Truck Drvr                      29.940000\n",
       "           Truck Drvr,Heavy                31.480000\n",
       "           Util Acts Supv                  35.160000\n",
       "           Util Constr Lead Wkr            31.200000\n",
       "           Util Constr Wkr                 28.711600\n",
       "           Util Hearing Ofcr *             39.400000\n",
       "           Util Laborer                    24.500000\n",
       "           Video Spec II *                 33.830000\n",
       "           Warehouser,Chief                33.530000\n",
       "           Warehouser,Sr-BU                28.683333\n",
       "           Warehouser,Sr-BU *              28.770000\n",
       "           Warehouser-BU                   26.069286\n",
       "           Warehouser-BU *                 24.190000\n",
       "\n",
       "[328 rows x 1 columns]"
      ]
     },
     "execution_count": 26,
     "metadata": {},
     "output_type": "execute_result"
    }
   ],
   "source": [
    "CityLight"
   ]
  },
  {
   "cell_type": "markdown",
   "metadata": {},
   "source": [
    "## Graphing"
   ]
  },
  {
   "cell_type": "markdown",
   "metadata": {},
   "source": [
    "##### How many people work in the Arts and Culture department?"
   ]
  },
  {
   "cell_type": "code",
   "execution_count": 29,
   "metadata": {},
   "outputs": [
    {
     "data": {
      "text/plain": [
       "21"
      ]
     },
     "execution_count": 29,
     "metadata": {},
     "output_type": "execute_result"
    }
   ],
   "source": [
    "ArtsAndCulture['Hourly Rate '].count()"
   ]
  },
  {
   "cell_type": "markdown",
   "metadata": {},
   "source": [
    "##### Generate a histgram of the wages of employees in the Arts and Culture department."
   ]
  },
  {
   "cell_type": "code",
   "execution_count": 32,
   "metadata": {},
   "outputs": [
    {
     "data": {
      "text/plain": [
       "array([[<matplotlib.axes._subplots.AxesSubplot object at 0x10e164e80>]],\n",
       "      dtype=object)"
      ]
     },
     "execution_count": 32,
     "metadata": {},
     "output_type": "execute_result"
    },
    {
     "data": {
      "image/png": "[encoded data removed]",
      "text/plain": [
       "<matplotlib.figure.Figure at 0x10e17af98>"
      ]
     },
     "metadata": {},
     "output_type": "display_data"
    }
   ],
   "source": [
    "ArtsAndCulture.hist()"
   ]
  },
  {
   "cell_type": "markdown",
   "metadata": {},
   "source": [
    "##### How many people work in the City Light department?"
   ]
  },
  {
   "cell_type": "code",
   "execution_count": 33,
   "metadata": {},
   "outputs": [
    {
     "data": {
      "text/plain": [
       "328"
      ]
     },
     "execution_count": 33,
     "metadata": {},
     "output_type": "execute_result"
    }
   ],
   "source": [
    "CityLight['Hourly Rate '].count()"
   ]
  },
  {
   "cell_type": "markdown",
   "metadata": {},
   "source": [
    "##### Generate a histgram of the wages of employees in the City Light department."
   ]
  },
  {
   "cell_type": "code",
   "execution_count": 34,
   "metadata": {},
   "outputs": [
    {
     "data": {
      "text/plain": [
       "array([[<matplotlib.axes._subplots.AxesSubplot object at 0x10e25cf98>]],\n",
       "      dtype=object)"
      ]
     },
     "execution_count": 34,
     "metadata": {},
     "output_type": "execute_result"
    },
    {
     "data": {
      "image/png": "[encoded data removed]",
      "text/plain": [
       "<matplotlib.figure.Figure at 0x10e1819b0>"
      ]
     },
     "metadata": {},
     "output_type": "display_data"
    }
   ],
   "source": [
    "CityLight.hist()"
   ]
  },
  {
   "cell_type": "markdown",
   "metadata": {},
   "source": [
    "## Exporting"
   ]
  },
  {
   "cell_type": "markdown",
   "metadata": {},
   "source": [
    "##### Find the present working directory."
   ]
  },
  {
   "cell_type": "code",
   "execution_count": 1,
   "metadata": {},
   "outputs": [
    {
     "data": {
      "text/plain": [
       "'/Users/danishmehboob/Desktop/UW_workshop/Day II'"
      ]
     },
     "execution_count": 1,
     "metadata": {},
     "output_type": "execute_result"
    }
   ],
   "source": [
    "pwd"
   ]
  },
  {
   "cell_type": "markdown",
   "metadata": {},
   "source": [
    "##### Export the data in an excel file. The file will be saved in the present working directory."
   ]
  },
  {
   "cell_type": "code",
   "execution_count": null,
   "metadata": {
    "collapsed": true
   },
   "outputs": [],
   "source": [
    "CityLight.to_excel('PythonPandasOutput.xlsx', sheet_name='Analysis')"
   ]
  }
 ],
 "metadata": {
  "kernelspec": {
   "display_name": "Python 3",
   "language": "python",
   "name": "python3"
  },
  "language_info": {
   "codemirror_mode": {
    "name": "ipython",
    "version": 3
   },
   "file_extension": ".py",
   "mimetype": "text/x-python",
   "name": "python",
   "nbconvert_exporter": "python",
   "pygments_lexer": "ipython3",
   "version": "3.6.4"
  }
 },
 "nbformat": 4,
 "nbformat_minor": 2
}
